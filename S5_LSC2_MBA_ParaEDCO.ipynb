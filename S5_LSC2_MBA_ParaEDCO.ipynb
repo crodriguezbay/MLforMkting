{
  "cells": [
    {
      "cell_type": "markdown",
      "metadata": {
        "id": "Q0kncoxziHGf"
      },
      "source": [
        "<div >\n",
        "<img src = \"figs/bannerMLMkting.png\" />\n",
        "</div>"
      ]
    },
    {
      "cell_type": "markdown",
      "metadata": {
        "id": "fnGXcAeHiHGg"
      },
      "source": [
        "# Filtrado Colaborativo Basado en Items: Análisis de Canasta de Compra."
      ]
    },
    {
      "cell_type": "markdown",
      "metadata": {
        "id": "iHdBbSPNiHGg"
      },
      "source": [
        "Este *cuaderno* trata sobre el Análisis de Canastas de Compra o *Market Basket Analysis* en inglés. Este es un algoritmo que ayuda a los vendedores a comprender las preferencias de sus clientes y mejorar sus sistemas de recomendación basado en los ítems comprados.  Si bien este  puede no estar a la vanguardia de los algoritmos de aprendizaje no supervisado, es omnipresente y es innegable su impacto en los negocios.  El objetivo del *cuaderno* es que usted aprenda que es el análisis de canasta de compra, los conceptos teóricos y el algoritmo que lo implementa, reconociendo sus  características y funcionamiento, y cómo ejecutarlo.\n"
      ]
    },
    {
      "cell_type": "markdown",
      "metadata": {
        "id": "pRJF0pIXiHGg"
      },
      "source": [
        "## ¿Qué es  análisis de canasta de compra?\n",
        "\n",
        "El análisis de canasta de compra consiste en buscar reglas de asociación en los consumos de individuos. La idea general es identificar y cuantificar qué items, o grupos de items, son consumidos juntos con la suficiente frecuencia que nos permita entender el comportamiento de los clientes.\n",
        "\n",
        "Vamos a definir el término canasta de compra: *Una canasta de compra es un conjunto permanente de productos en un sistema económico*. Permanente no significa necesariamente permanente en el sentido tradicional. Significa, que hasta el momento en que el producto sea retirado del catálogo, estará siempre disponible para su compra. El producto al que se hace referencia en la definición anterior es cualquier bien, servicio o elemento de un grupo, incluida una bicicleta, escuchar una canción, pintar su casa o un sitio web. Por último, un sistema económico puede ser una empresa, un conjunto de actividades, o un país.\n",
        "\n",
        "Este tipo de análisis suele aplicarse en tres casos principalmente:\n",
        "\n",
        "1. Recomendaciones de productos, cupones y descuentos.\n",
        "2. Mejora de precios.\n",
        "3. Distribución espacial de los productos en las tiendas.\n",
        "\n",
        "\n",
        "Las recomendaciones de productos, cupones y descuentos, y la mejora de precios son dos caras de la misma moneda. Imaginemos el caso de dos artículos fuertemente relacionados, lo más probable es que estos dos artículos se compren en la misma transacción. Una forma de aumentar la rentabilidad de esa transacción sería aumentando el precio de uno de los productos. Si la asociación entre los dos artículos es lo suficientemente fuerte, el aumento de precio puede ser tal que no incurra en el riesgo que no se compre ninguno de los artículos.\n",
        "\n",
        "De manera similar, los comerciantes pueden alentar a los clientes a comprar un artículo débilmente asociado con otro a través de descuentos o cupones.  Por ejemplo,  al estudiar los historiales de compras de ciertos clientes se podría encontrar que estos están comprando artículos que están asociados con otros productos que no están comprando. Con esta información, se pueden ofrecer descuentos e inducir a que los compren, aumentando por lo tanto las ventas.\n",
        "\n",
        "Asimismo, las asociaciones de productos se pueden explotar para colocar productos estratégicamente en las tiendas y lograr que los clientes compren más artículos, gastando más dinero.\n",
        "\n",
        "\n",
        "El ejemplo más sencillo de una canasta de compras es un supermercado, que es un sistema compuesto por una colección de alimentos y bebidas:\n"
      ]
    },
    {
      "cell_type": "markdown",
      "metadata": {
        "id": "yj3sQ9zqiHGg"
      },
      "source": [
        "<div style=\"max-width:500px\">\n",
        "    <img src = \"figs/fig0.jpeg\" />\n",
        "</div>\n"
      ]
    },
    {
      "cell_type": "markdown",
      "metadata": {
        "id": "zVKPf0SwiHGg"
      },
      "source": [
        "Incluso sin usar ningún modelo o análisis, ciertas relaciones de productos son obvias. Tomemos la relación entre la carne y las verduras (por lo general, los modelos de análisis de la canasta de compra arrojan relaciones más específicas que la que existe entre la carne y las verduras, pero, supongamos por un momento que esta es así)\n",
        "\n",
        "Dada esta relación, ¿qué podemos hacer? Bueno, sabemos que estos artículos se compran juntos frequentemente. Podemos entonces aprovechar esta información colocando las verduras y las carnes en lados opuestos de la tienda, obligando a los consumidores a caminar toda la  tienda, aumentando la probabilidad de que compren artículos adicionales que no hubiesen comprado de otra forma. Obviamente, son muchos factores que determinan el diseño de la tienda, pero el análisis de la canasta de compra es definitivamente uno de ellos.\n",
        "\n",
        "En el análisis de la canasta de compra entonces estamos buscando grupos de productos que ocurren con frecuencia.  Por lo tanto, se podría pensar en este análisis como uno de clustering. Sin embargo, la principales diferencias son que los grupos en el análisis de la canasta de compra son micro (solo unos pocos productos por grupo) y que el orden de los artículos en el grupo es importante cuando se trata de calcular métricas probabilísticas.\n",
        "\n",
        "El mensaje final de esta sección, es que el analista puede  descubrir relaciones, obvias y sorprendentes, entre  productos y que una vez descubiertas, estas se pueden explotar para informar y mejorar el proceso de toma de decisiones.\n"
      ]
    },
    {
      "cell_type": "markdown",
      "metadata": {
        "id": "bPmAGo3uiHGh"
      },
      "source": [
        "## Reglas de asociación\n",
        "\n",
        "\n",
        "\n",
        "Como dijimos anteriormente, el análisis de la canasta de compra busca de manera eficiente reglas de asociación en los datos. Pero antes de seguir tenemos que definir que es una regla de asociación:\n",
        "\n",
        "*Una regla de asociación es un caso en el que la probabilidad condicional del producto A dado que también compra el producto B es alta, mucho más alta que la probabilidad incondicional del producto A. Por ejemplo, tal vez cuando compra leche, también compra pan. Si sólo compra pan después de comprar leche, entonces habrá una regla de asociación: leche $\\rightarrow$ pan. Sin embargo, si siempre compra pan independientemente de leche, entonces la probabilidad de comprar pan será alta, pero esta no es una regla de asociación, porque la leche no hace una diferencia.*\n",
        "\n",
        "Cada una de estas probabilidades que componen la regla de asociación recibe un nombre particular en este contexto, las 5 métricas más importantes son: soporte, confianza,  \"lift\", levante, y convicción.\n",
        "\n",
        "\n",
        "   - El **soporte**  es la probabilidad de que un  artículo o conjunto de artículos aparezca en los datos. Por ejemplo:\n",
        "   \n",
        "       -  El soporte de A:\n",
        "          \n",
        "          \\begin{align}\n",
        "            Soporte(A) = Pr(A)\n",
        "           \\end{align}\n",
        "           \n",
        "       -  El soporte de A y B:\n",
        "           \n",
        "           \\begin{align}\n",
        "            Soporte(A\\&B) = Pr(A,B)\n",
        "           \\end{align}\n",
        "\n",
        "\n",
        "\n",
        "   - La **confianza** es un indicador de la frecuencia con que la regla es cierta.  Esta dada por la probabilidad condicional, y mide la probabilidad de que el producto B haya sido comprado dado que se compró el producto A:\n",
        "    \n",
        "        \\begin{align}\n",
        "        Confianza (A\\rightarrow B)= Pr(B|A) = \\frac{Soporte(A\\&B)}{Soporte(A)}= \\frac{Pr(A\\&B)}{Pr(A)}\n",
        "        \\end{align}\n",
        "    \n",
        "    \n",
        "   - El **lift** es el ratio entre la confianza observada de $A\\rightarrow B$ y el soporte de $B$. Es un indicador que busca responder la pregunta: si un individuo compra el producto A, ¿podemos decir algo acerca de si comprará o no el producto B con cierto nivel de confianza?.\n",
        "   \n",
        "        \\begin{align}\n",
        "        Lift(A\\rightarrow B)= \\frac{Soporte(A\\&B)}{Soporte(A)Soporte(B)}= \\frac{Pr(B|A)}{Pr(A)Pr(B)}\n",
        "        \\end{align}\n",
        "    \n",
        "  Su rango es  $[0,\\infty]$ y nos da una medida del aumento de la probabilidad conjunta relativa a lo que esperaríamos si X y Y fuesen independientes.\n",
        "    \n",
        "    \n",
        "   - El **levante** o **apalancamiento** por otro lado es un indicador que toma la diferencia:\n",
        "   \n",
        "     \\begin{align}\n",
        "     Apalancamiento(A\\rightarrow B)=Pr(A,B)-Pr(A)Pr(B)\n",
        "     \\end{align}\n",
        "    \n",
        "  Su rango es $[-1,1]$ y nos va a dar la dirección de la relación entre los items: valores postivos implican una asociación positiva, mientras que valores negativos indican una asociación negativa.\n",
        "    \n",
        "    \n",
        "   - La **convicción** es un indicador que se forma con el ratio de:\n",
        "       - La probabilidad de que B ocurra sin A, si B e A son independientes.\n",
        "       - La frecuencia observada de las predicciones incorrectas.   \n",
        "       \n",
        "          \\begin{align}\n",
        "               Convicción(A\\rightarrow B)=\\frac{1-Soporte(B)}{1-Confianza (A\\rightarrow B)}\n",
        "          \\end{align}\n",
        "    \n",
        " Su rango es $[0, \\infty]$. Los valores del indicador superiores a 1 son ideales porque implica que la asociación entre A e B es incorrecta más a menudo que si la asociación entre X e Y es aleatoria ($A \\perp B$). En otras palabras, esto quiere decir que existe la asociación entre A y B. Un valor de 1 implica independencia, y un valor menor a 1 significa que la relación que indica que A e B son  independientes es correcta con más frecuencia que la relación A e B que se ha definido como A$\\rightarrow$ B. En esta situación, la relación podría ser inversa B $\\rightarrow$A.\n",
        "     \n",
        "\n",
        "   "
      ]
    },
    {
      "cell_type": "markdown",
      "metadata": {
        "id": "MCk8hsS1iHGh"
      },
      "source": [
        "### Ejemplo cálculo de las métricas\n",
        "\n",
        "Ilustremos cómo calcular estas métricas en `Python` utilizando datos de 10 transacciones ficticias. Cada una de las entradas de la lista es una transacción y cada elemento es el producto que se compró en cada transacción."
      ]
    },
    {
      "cell_type": "code",
      "execution_count": 13,
      "metadata": {
        "id": "qT1vMf99iHGh"
      },
      "outputs": [],
      "source": [
        "transacciones = [\n",
        "     ['leche', 'pan', 'manzanas', 'cereales', 'gelatina', 'galletas', 'ensalada', 'tomates'],\n",
        "     ['cerveza', 'leche', 'papas', 'salsa', 'uvas', 'vino', 'papas', 'huevos', 'zanahorias'],\n",
        "     ['pañales', 'fórmula para bebés', 'leche', 'pan', 'pollo', 'espárragos', 'galletas'],\n",
        "     ['leche', 'galletas', 'pollo', 'espárragos', 'brócoli', 'cereales', 'jugo de naranja'],\n",
        "     ['filete', 'espárragos', 'brócoli', 'papas fritas', 'salsa', 'ketchup', 'patatas', 'ensalada'],\n",
        "     ['cerveza', 'salsa', 'espárragos', 'vino', 'queso', 'galletas', 'fresas', 'galletas'],\n",
        "     ['torta de chocolate', 'frutillas', 'vino', 'queso', 'cerveza', 'leche', 'jugo de naranja'],\n",
        "     ['pollo', 'porotos', 'brócoli', 'leche', 'pan', 'huevos', 'patatas', 'ketchup', 'galletas saladas'],\n",
        "     ['huevos', 'pan', 'queso', 'pavo', 'ensalada', 'tomates', 'vino', 'tapa de asado', 'zanahorias'],\n",
        "     ['pan', 'leche', 'tomates', 'cereal', 'pollo', 'pavo', 'papas fritas', 'salsa', 'pañales']\n",
        "]"
      ]
    },
    {
      "cell_type": "markdown",
      "metadata": {
        "id": "laCjAqVriHGh"
      },
      "source": [
        "Podemos ver que hay 10 transacciones"
      ]
    },
    {
      "cell_type": "code",
      "execution_count": 14,
      "metadata": {
        "colab": {
          "base_uri": "https://localhost:8080/"
        },
        "id": "dD7ZkwzaiHGh",
        "outputId": "4df233d2-92fb-442e-ba51-28c384307e28"
      },
      "outputs": [
        {
          "output_type": "execute_result",
          "data": {
            "text/plain": [
              "10"
            ]
          },
          "metadata": {},
          "execution_count": 14
        }
      ],
      "source": [
        "N = len(transacciones)\n",
        "N"
      ]
    },
    {
      "cell_type": "markdown",
      "metadata": {
        "id": "DVwZFHXoiHGh"
      },
      "source": [
        "La regla de asociación que queremos evaluar en este ejemplo es la de leche $\\rightarrow$ pan. Para ello, necesitamos calcular las frecuencias de compras de cada uno de los artículos"
      ]
    },
    {
      "cell_type": "code",
      "execution_count": 15,
      "metadata": {
        "colab": {
          "base_uri": "https://localhost:8080/"
        },
        "id": "kokJnpAoiHGh",
        "outputId": "3275fc0e-5c94-44bc-abe4-8b21ea41d968"
      },
      "outputs": [
        {
          "output_type": "stream",
          "name": "stdout",
          "text": [
            "N = 10\n",
            "Freq(leche) = 7\n",
            "Freq(pan) = 5\n",
            "Freq(leche, pan) = 4\n"
          ]
        }
      ],
      "source": [
        "# Frecuencia de compra de leche\n",
        "f_x = sum(['leche' in i for i in transacciones])\n",
        "# Frecuencia de compra de pan\n",
        "f_y = sum(['pan' in i for i in transacciones])\n",
        "# Frecuencia de compra de leche y pan\n",
        "f_x_y = sum([\n",
        "    all(w in i for w in ['leche', 'pan'])\n",
        "    for i in transacciones\n",
        "])\n",
        "\n",
        "print(\n",
        "    \"N = {}\\n\".format(N) +\n",
        "    \"Freq(leche) = {}\\n\".format(f_x) +\n",
        "    \"Freq(pan) = {}\\n\".format(f_y) +\n",
        "    \"Freq(leche, pan) = {}\".format(f_x_y)\n",
        ")"
      ]
    },
    {
      "cell_type": "markdown",
      "metadata": {
        "id": "8iThkNjtiHGh"
      },
      "source": [
        "Calculamos las métricas:"
      ]
    },
    {
      "cell_type": "code",
      "execution_count": 16,
      "metadata": {
        "colab": {
          "base_uri": "https://localhost:8080/"
        },
        "id": "nTrtyLfNiHGh",
        "outputId": "dc727227-5b3c-4dcf-edda-1dc3ee3af59b"
      },
      "outputs": [
        {
          "output_type": "stream",
          "name": "stdout",
          "text": [
            "Soporte = 0.4\n"
          ]
        }
      ],
      "source": [
        "# Soporte (supp)\n",
        "soporte = f_x_y / N\n",
        "print(\"Soporte = {}\".format(round(soporte, 4)))"
      ]
    },
    {
      "cell_type": "code",
      "execution_count": 17,
      "metadata": {
        "colab": {
          "base_uri": "https://localhost:8080/"
        },
        "id": "SzqsFb8fiHGi",
        "outputId": "645cca4e-2533-44a0-c45f-76634f758af7"
      },
      "outputs": [
        {
          "output_type": "stream",
          "name": "stdout",
          "text": [
            "Confianza = 0.5714\n"
          ]
        }
      ],
      "source": [
        "# Confianza: Leche -> Pan\n",
        "\n",
        "confianza = soporte / (f_x / N)\n",
        "print(\"Confianza = {}\".format(round(confianza, 4)))"
      ]
    },
    {
      "cell_type": "code",
      "execution_count": 18,
      "metadata": {
        "colab": {
          "base_uri": "https://localhost:8080/"
        },
        "id": "CIyEq0yziHGi",
        "outputId": "4ca11a72-184e-4c6c-f99b-479cd8ad0f38"
      },
      "outputs": [
        {
          "output_type": "stream",
          "name": "stdout",
          "text": [
            "Lift = 1.1429\n"
          ]
        }
      ],
      "source": [
        "# Lift: Leche -> Pan\n",
        "\n",
        "lift = confianza / (f_y / N)\n",
        "print(\"Lift = {}\".format(round(lift, 4)))"
      ]
    },
    {
      "cell_type": "code",
      "execution_count": 19,
      "metadata": {
        "colab": {
          "base_uri": "https://localhost:8080/"
        },
        "id": "ltp_QHoeiHGi",
        "outputId": "074fe338-446e-46b6-8bfb-a8a667c3e600"
      },
      "outputs": [
        {
          "output_type": "stream",
          "name": "stdout",
          "text": [
            "Apalancamiento = 0.05\n"
          ]
        }
      ],
      "source": [
        "# Apalancamiento: Leche -> Pan\n",
        "\n",
        "apalancamiento = soporte - ((f_x / N) * (f_y / N))\n",
        "print(\"Apalancamiento = {}\".format(round(apalancamiento, 4)))"
      ]
    },
    {
      "cell_type": "code",
      "execution_count": 20,
      "metadata": {
        "colab": {
          "base_uri": "https://localhost:8080/"
        },
        "id": "jM3v2oILiHGi",
        "outputId": "da2de15d-a0c8-4e13-9b46-7c40a8771fad"
      },
      "outputs": [
        {
          "output_type": "stream",
          "name": "stdout",
          "text": [
            "Convicción = 1.1667\n"
          ]
        }
      ],
      "source": [
        "# Convicción: Leche -> Pan\n",
        "\n",
        "conviccion = (1 - (f_y / N)) / (1 - confianza)\n",
        "print(\"Convicción = {}\".format(round(conviccion, 4)))"
      ]
    },
    {
      "cell_type": "markdown",
      "metadata": {
        "id": "HfAANew7iHGi"
      },
      "source": [
        "## Algortimo Apriori\n",
        "\n",
        "Las reglas de asociación con un indicador de *lift* alto son las más útiles, pues suelen revelar asociaciones que no conocemos de antemano. No existe, sin embargo, una teoría subyacente sobre estas regalas de asociación. En la práctica, lo que hacemos, es explorar los datos y buscar pares de productos, o grupos de productos que tengan indicadores altos de *confianza* y *lift*.\n",
        "\n",
        "Operacionalmente esta exploración se hace utilizando el algoritmo de Apriori, que tiene dos etapas:\n",
        "\n",
        "    1. Identificar todos los productos que ocurren con una frecuencia por arriba de un determinado límite (productos frecuentes).\n",
        "    2. Convertir esos productos frecuentes en reglas de asociación.\n",
        "\n",
        "Es importante notar que este límite debe ser predeterminado, es un hiper-parámetro del algoritmo, y puede ser ajustado por quién lo ejecuta. Sin embargo, esto no es un valor que pueda ser optimizado ya que no hay una métrica de evaluación para este algoritmo. Este hiper-parámetro suele especificarse en función de los datos, el uso particular, o la experiencia del analista.\n",
        "\n",
        "\n",
        "La idea principal detrás de este algoritmo es el principio Apriori: cualquier subconjunto de un conjunto de elementos frecuentes debe ser frecuente. De forma paralela, ningún superconjunto de un conjunto de elementos infrecuentes puede ser frecuente.\n"
      ]
    },
    {
      "cell_type": "markdown",
      "metadata": {
        "id": "0Xu7aUNXiHGi"
      },
      "source": [
        "Para illustar como funciona, veamos un ejercicio simple. Supongamos que tenemos los siguientes datos de un comercio que vende 4 productos (A,B,C,D), tenemos 7 transacciones y podemos ver que productos se compraron en la misma transaccion (en la misma canasta de compra).\n",
        "\n",
        "\n",
        "| Transacción | Productos    |\n",
        "|-------------|--------------|\n",
        "| 1           | {A, B, C, D} |\n",
        "| 2           | {A, B, D}    |\n",
        "| 3           | {A, B}       |\n",
        "| 4           | {B, C, D}    |\n",
        "| 5           | {B, C}       |\n",
        "| 6           | {C, D}       |\n",
        "| 7           | {B, D}       |"
      ]
    },
    {
      "cell_type": "markdown",
      "metadata": {
        "id": "obMztnzoiHGi"
      },
      "source": [
        "De la tabla de datos podemos ver que el producto A aparece en 3 de las 7 transacciones, el artículo B en 6 y ambos artículos juntos en 3. El soporte del producto {A} es por lo tanto del 43%, el del producto {B} del 86% y del conjunto {A, B} del 43%. De las 3 transacciones que incluyen A, las 3 incluyen B, por lo tanto, la regla “clientes que compran el artículo A también compran B”, se cumple, acorde a los datos, un 100% de las veces. Esto significa que la confianza de la regla A $\\rightarrow$ B es del 100\\%.\n",
        "\n",
        "Encontrar conjuntos de artículos frecuentes (conjuntos de artículos con una frecuencia mayor o igual a un determinado soporte mínimo) no es un proceso trivial ya que los conjuntos posibles crecen exponencialmente. Para illustarlo veamos todas las posibles combinaciones de estos 4 artículos:"
      ]
    },
    {
      "cell_type": "markdown",
      "metadata": {
        "id": "-vEpxNbKiHGi"
      },
      "source": [
        "\n",
        "<div style=\"max-width:500px\">\n",
        "    <img src = \"figs/fig1.jpeg\" />\n",
        "</div>\n"
      ]
    },
    {
      "cell_type": "markdown",
      "metadata": {
        "id": "ecYwJfFQiHGi"
      },
      "source": [
        "Las flechas indican que dos o más conjuntos pueden ser combinados para formar un conjunto más grande. Recordemos que nuestro objetivo es encontrar los productos que se compran juntos frecuentemente; y que la frecuencia la medimos con el indicador de soporte que cuenta el porcentaje de transacciones que contienen a este producto. Entonces, ¿cómo calculamos el soporte del conjunto {A,B}? En este caso tendríamos que examinar todas las transacciones y contar el total de veces que aparece este cojunto, para luego dividirlo por el total de transacciones.\n",
        "\n",
        "Esto deberíamos además hacerlo para todos los conjuntos posibles. En la figura podemos ver que para cada conjunto posible debemos ir a través de los datos 15 veces. Es más, para un conjunto de datos que contiene N items posibles puede generar $2^N-1$ conjuntos posibles. Por ejemplo, para una tienda que vende solo 100 artículos, uno puede generar $1.26\\times 10^{30}$ posibles conjuntos. Esto demandaría demasiados recursos computacionales y de tiempo.\n",
        "\n",
        "Para reducir los costos computacionales podemos aplicar el principio Apriori: cualquier subconjunto de un conjunto de elementos frecuentes debe ser frecuente. Esto implica por ejemplo que si {A,B} es frecuente, también lo son {A} y {B}. Entonces, lo que hace el algoritmo Apriori es buscar exhaustivamente por niveles de complejidad (de menor a mayor tamaño de conjunto de productos)."
      ]
    },
    {
      "cell_type": "markdown",
      "metadata": {
        "id": "WpsZp7aliHGi"
      },
      "source": [
        "El funcionamiento del algoritmo es relativamente sencillo, comienza identificando los productos individuales que aparecen en el total de transacciones con una frecuencia por encima de un límite mínimo establecido por el analista.\n",
        "\n",
        "Supongamos que el límite que establecemos es que el soporte tiene que ser igual o superior a 3/7 = 0.43, es decir que el item aparezca al menos en 3 de las 7 transacciones. A continuación lo que hacemos es calcular el soporte para los conjuntos de productos que contienen los items individuales:\n",
        "\n",
        "| Conjunto de Productos | \tOcurrencias \t| Soporte |\n",
        "| --------------| ------------------| --------|\n",
        "| {A}           | \t3               | \t0.43  |\n",
        "| {B}    \t    |   6               | \t0.86  |\n",
        "| {C}    \t    |   4               | \t0.57  |\n",
        "| {D}    \t    |   5               | \t0.71  |\n",
        "\n",
        "\n",
        "Dado que todos los items superan este umbral se mantienen en la base. Luego generamos los conjuntos que tienen todos las combinaciones de tamaño 2 y calculamos soporte:\n",
        "\n",
        "\n",
        "| Conjunto de Productos | \tOcurrencias \t| Soporte |\n",
        "| --------------| ------------------| --------|\n",
        "| {A, B}        | 3                 |\t0.43 |\n",
        "| {A, C}        |\t1               |\t0.14  |\n",
        "| {A, D}        |\t2               |\t0.29  |\n",
        "| {B, C}        |\t3               |\t0.43  |\n",
        "| {B, D}        |\t4               |\t0.57  |\n",
        "| {C, D}        |\t3               |\t0.43  |\n",
        "\n",
        "Los conjuntos {A, B}, {B, C}, {B, D} y {C, D} superan el límite establecido, por lo que son frecuentes. Los restantes conjuntos se descartan, lo que implica además que cualquier conjunto futuro que los contenga no va a ser frecuente.\n",
        "\n",
        "| Conjunto de Productos | \tOcurrencias \t| Soporte |\n",
        "| --------------| ------------------| --------|\n",
        "|  {A, B}       |\t3              \t| 0.43    |\n",
        "|  {B, C}       |\t3              \t| 0.43    |\n",
        "|  {B, D}       |\t4              \t| 0.57    |\n",
        "|  {C, D}       |\t3              \t| 0.43    |\n",
        "\n",
        "Continuamos el proceso calculando para los conjuntos con 3 elementos que contienen A, B y C:\n",
        "\n",
        "| Conjunto de Productos |\n",
        "|---------------|\n",
        "| {A, B, C}     |\n",
        "| {A, B, D}     |\n",
        "| {B, C, D}     |\n",
        "| {C, D, A}     |\n",
        "\n",
        "Los conjuntos {A, B, C}, {A, B, D} y {C, D, A} contienen subconjuntos que ya habiamos identificado como infrecuentes, por lo que los descartamos. Para el conjunto restante calculamos el soporte:\n",
        "\n",
        "\n",
        "| Conjunto de Productos |  \tOcurrencias \t| Soporte |\n",
        "| --------------| ------------------| --------|\n",
        "| {B, C, D} \t|         2 \t    | 0.29    |\n",
        "\n",
        "El soporte del conjunto {B, C, D} no supera el umbral que establecimos y lo declaramos infrecuente. Al no existir ningún nuevo conjunto frecuente, se detiene el algoritmo.\n",
        "\n",
        "Como resultado de la búsqueda se han identificado los siguientes conjuntos frecuentes:\n",
        "\n",
        "|Conjuntos frecuentes |\n",
        "|-------------------|\n",
        "| {A, B}            |\n",
        "| {B, C}            |\n",
        "| {B, D}            |\n",
        "| {C, D}            |\n"
      ]
    },
    {
      "cell_type": "markdown",
      "metadata": {
        "id": "JoNPphkNiHGi"
      },
      "source": [
        "Identificados los conjuntos frecuentes, en el siguiente paso calculamos las reglas de asociación. Nuevamente, este paso es demandante puesto que para cada conjunto frecuente se generan tantas reglas como combinaciones binarias. Imponer un límite en la confianza reduce el conjunto de items a verificar. En concreto, el proceso a seguir es el siguiente:\n",
        "\n",
        "   -  Por cada conjunto frecuente $I$, obtenemos todos los posibles subconjuntos de $I$.\n",
        "\n",
        "   -  Para cada subconjuntos $s$ de $I$, creamos la regla “s => (I-s)”\n",
        "\n",
        "   - Descartamos todas las reglas que no superen un mínimo de confianza.\n"
      ]
    },
    {
      "cell_type": "markdown",
      "metadata": {
        "id": "DwvObMH6iHGi"
      },
      "source": [
        "Continuando con nuestro ejemplo, supongamos que solo queremos las reglas que tienen una confianza superior al 0.7.\n",
        "\n",
        "\n",
        "\n",
        "| Reglas \t         |  Confianza \t        |    Confianza       |\n",
        "|--------------------|----------------------|--------------------|\n",
        "| $$A\\rightarrow B$$  |\t$\\frac{Pr(A, B)}{Pr(A)}$  | 0.43 / 0.43 = 1    |\n",
        "| $B \\rightarrow A$  |\t$\\frac{Pr(A, B)}{Pr(B)}$  | 0.43 / 0.86 = 0.5  |\n",
        "| $B \\rightarrow C$  |\t$\\frac{Pr(B, C)}{Pr(B)}$  | 0.43 / 0.86 = 0.5  |\n",
        "| $C \\rightarrow B$  |\t$\\frac{Pr(B, C)}{Pr(C)}$  | 0.43 / 0.57 = 0.75 |\n",
        "| $B \\rightarrow D$  |\t$\\frac{Pr(B, D)}{Pr(B)}$  | 0.43 / 0.86 = 0.5  |\n",
        "| $D \\rightarrow B$  |\t$\\frac{Pr(B, D)}{Pr(D)}$  | 0.43 / 0.71 = 0.6  |\n",
        "| $C \\rightarrow D$  |\t$\\frac{Pr(C, D)}{Pr(C)}$  | 0.43 / 0.57 = 0.75 |\n",
        "| $D \\rightarrow C$  |\t$\\frac{Pr(C, D)}{Pr(D)}$  | 0.43 / 0.71 = 0.6  |\n",
        "\n",
        "De todas las posibles reglas, únicamente $C \\rightarrow D$ y $C \\rightarrow B$ superan el límite de confianza.\n",
        "\n"
      ]
    },
    {
      "cell_type": "markdown",
      "metadata": {
        "id": "psc9IBlriHGi"
      },
      "source": [
        "## Ejemplo implementación algoritmo Apriori\n",
        "\n",
        "Para ilustrar la implementación en `Phyton` vamos a utilizar datos de `lastfm` que es un servicio de radio online. Estos datos contienen la lista de reproducción para 15.000 usuarios.\n",
        "\n",
        "Para esta tarea vamos a usar la libreria `apriori`."
      ]
    },
    {
      "cell_type": "code",
      "execution_count": 21,
      "metadata": {
        "id": "8j0PFb1MiHGi"
      },
      "outputs": [],
      "source": [
        "#Cargamos las librerías a utilizar\n",
        "import pandas as pd\n",
        "import numpy as np\n",
        "from apyori import apriori"
      ]
    },
    {
      "cell_type": "markdown",
      "metadata": {
        "id": "flV0r4uliHGi"
      },
      "source": [
        "Cargamos y visualizamos la primeras observaciones de los datos:"
      ]
    },
    {
      "cell_type": "code",
      "source": [
        "import gdown\n",
        "\n",
        "# Replace 'file_id' with the actual file ID\n",
        "file_id = '1G_nqx4xwuoMdiRMf0XKuTaY0POgzyRz7'\n",
        "url = f'https://drive.google.com/uc?id={file_id}'\n",
        "\n",
        "# Download the file (optional: specify output file name)\n",
        "gdown.download(url, 'lastfm_es.csv', quiet=False)"
      ],
      "metadata": {
        "colab": {
          "base_uri": "https://localhost:8080/",
          "height": 107
        },
        "id": "IO92NIyuimFd",
        "outputId": "c56b544e-a1cf-4721-9ce3-bd513f38aece"
      },
      "execution_count": 22,
      "outputs": [
        {
          "output_type": "stream",
          "name": "stderr",
          "text": [
            "Downloading...\n",
            "From: https://drive.google.com/uc?id=1G_nqx4xwuoMdiRMf0XKuTaY0POgzyRz7\n",
            "To: /content/lastfm_es.csv\n",
            "100%|██████████| 5.09M/5.09M [00:00<00:00, 139MB/s]\n"
          ]
        },
        {
          "output_type": "execute_result",
          "data": {
            "text/plain": [
              "'lastfm_es.csv'"
            ],
            "application/vnd.google.colaboratory.intrinsic+json": {
              "type": "string"
            }
          },
          "metadata": {},
          "execution_count": 22
        }
      ]
    },
    {
      "cell_type": "code",
      "execution_count": 23,
      "metadata": {
        "colab": {
          "base_uri": "https://localhost:8080/",
          "height": 206
        },
        "id": "DLgYe6tuiHGi",
        "outputId": "f41c6a09-a37a-49dd-d5c1-df34802f6766"
      },
      "outputs": [
        {
          "output_type": "execute_result",
          "data": {
            "text/plain": [
              "   usuario                  artista\n",
              "0        1    red hot chili peppers\n",
              "1        1  the black dahlia murder\n",
              "2        1                goldfrapp\n",
              "3        1         dropkick murphys\n",
              "4        1                 le tigre"
            ],
            "text/html": [
              "\n",
              "  <div id=\"df-6dd38648-07e5-4feb-a058-e1a5006b00cd\" class=\"colab-df-container\">\n",
              "    <div>\n",
              "<style scoped>\n",
              "    .dataframe tbody tr th:only-of-type {\n",
              "        vertical-align: middle;\n",
              "    }\n",
              "\n",
              "    .dataframe tbody tr th {\n",
              "        vertical-align: top;\n",
              "    }\n",
              "\n",
              "    .dataframe thead th {\n",
              "        text-align: right;\n",
              "    }\n",
              "</style>\n",
              "<table border=\"1\" class=\"dataframe\">\n",
              "  <thead>\n",
              "    <tr style=\"text-align: right;\">\n",
              "      <th></th>\n",
              "      <th>usuario</th>\n",
              "      <th>artista</th>\n",
              "    </tr>\n",
              "  </thead>\n",
              "  <tbody>\n",
              "    <tr>\n",
              "      <th>0</th>\n",
              "      <td>1</td>\n",
              "      <td>red hot chili peppers</td>\n",
              "    </tr>\n",
              "    <tr>\n",
              "      <th>1</th>\n",
              "      <td>1</td>\n",
              "      <td>the black dahlia murder</td>\n",
              "    </tr>\n",
              "    <tr>\n",
              "      <th>2</th>\n",
              "      <td>1</td>\n",
              "      <td>goldfrapp</td>\n",
              "    </tr>\n",
              "    <tr>\n",
              "      <th>3</th>\n",
              "      <td>1</td>\n",
              "      <td>dropkick murphys</td>\n",
              "    </tr>\n",
              "    <tr>\n",
              "      <th>4</th>\n",
              "      <td>1</td>\n",
              "      <td>le tigre</td>\n",
              "    </tr>\n",
              "  </tbody>\n",
              "</table>\n",
              "</div>\n",
              "    <div class=\"colab-df-buttons\">\n",
              "\n",
              "  <div class=\"colab-df-container\">\n",
              "    <button class=\"colab-df-convert\" onclick=\"convertToInteractive('df-6dd38648-07e5-4feb-a058-e1a5006b00cd')\"\n",
              "            title=\"Convert this dataframe to an interactive table.\"\n",
              "            style=\"display:none;\">\n",
              "\n",
              "  <svg xmlns=\"http://www.w3.org/2000/svg\" height=\"24px\" viewBox=\"0 -960 960 960\">\n",
              "    <path d=\"M120-120v-720h720v720H120Zm60-500h600v-160H180v160Zm220 220h160v-160H400v160Zm0 220h160v-160H400v160ZM180-400h160v-160H180v160Zm440 0h160v-160H620v160ZM180-180h160v-160H180v160Zm440 0h160v-160H620v160Z\"/>\n",
              "  </svg>\n",
              "    </button>\n",
              "\n",
              "  <style>\n",
              "    .colab-df-container {\n",
              "      display:flex;\n",
              "      gap: 12px;\n",
              "    }\n",
              "\n",
              "    .colab-df-convert {\n",
              "      background-color: #E8F0FE;\n",
              "      border: none;\n",
              "      border-radius: 50%;\n",
              "      cursor: pointer;\n",
              "      display: none;\n",
              "      fill: #1967D2;\n",
              "      height: 32px;\n",
              "      padding: 0 0 0 0;\n",
              "      width: 32px;\n",
              "    }\n",
              "\n",
              "    .colab-df-convert:hover {\n",
              "      background-color: #E2EBFA;\n",
              "      box-shadow: 0px 1px 2px rgba(60, 64, 67, 0.3), 0px 1px 3px 1px rgba(60, 64, 67, 0.15);\n",
              "      fill: #174EA6;\n",
              "    }\n",
              "\n",
              "    .colab-df-buttons div {\n",
              "      margin-bottom: 4px;\n",
              "    }\n",
              "\n",
              "    [theme=dark] .colab-df-convert {\n",
              "      background-color: #3B4455;\n",
              "      fill: #D2E3FC;\n",
              "    }\n",
              "\n",
              "    [theme=dark] .colab-df-convert:hover {\n",
              "      background-color: #434B5C;\n",
              "      box-shadow: 0px 1px 3px 1px rgba(0, 0, 0, 0.15);\n",
              "      filter: drop-shadow(0px 1px 2px rgba(0, 0, 0, 0.3));\n",
              "      fill: #FFFFFF;\n",
              "    }\n",
              "  </style>\n",
              "\n",
              "    <script>\n",
              "      const buttonEl =\n",
              "        document.querySelector('#df-6dd38648-07e5-4feb-a058-e1a5006b00cd button.colab-df-convert');\n",
              "      buttonEl.style.display =\n",
              "        google.colab.kernel.accessAllowed ? 'block' : 'none';\n",
              "\n",
              "      async function convertToInteractive(key) {\n",
              "        const element = document.querySelector('#df-6dd38648-07e5-4feb-a058-e1a5006b00cd');\n",
              "        const dataTable =\n",
              "          await google.colab.kernel.invokeFunction('convertToInteractive',\n",
              "                                                    [key], {});\n",
              "        if (!dataTable) return;\n",
              "\n",
              "        const docLinkHtml = 'Like what you see? Visit the ' +\n",
              "          '<a target=\"_blank\" href=https://colab.research.google.com/notebooks/data_table.ipynb>data table notebook</a>'\n",
              "          + ' to learn more about interactive tables.';\n",
              "        element.innerHTML = '';\n",
              "        dataTable['output_type'] = 'display_data';\n",
              "        await google.colab.output.renderOutput(dataTable, element);\n",
              "        const docLink = document.createElement('div');\n",
              "        docLink.innerHTML = docLinkHtml;\n",
              "        element.appendChild(docLink);\n",
              "      }\n",
              "    </script>\n",
              "  </div>\n",
              "\n",
              "\n",
              "<div id=\"df-c05113e1-49a2-431c-9327-2acb30592ff2\">\n",
              "  <button class=\"colab-df-quickchart\" onclick=\"quickchart('df-c05113e1-49a2-431c-9327-2acb30592ff2')\"\n",
              "            title=\"Suggest charts\"\n",
              "            style=\"display:none;\">\n",
              "\n",
              "<svg xmlns=\"http://www.w3.org/2000/svg\" height=\"24px\"viewBox=\"0 0 24 24\"\n",
              "     width=\"24px\">\n",
              "    <g>\n",
              "        <path d=\"M19 3H5c-1.1 0-2 .9-2 2v14c0 1.1.9 2 2 2h14c1.1 0 2-.9 2-2V5c0-1.1-.9-2-2-2zM9 17H7v-7h2v7zm4 0h-2V7h2v10zm4 0h-2v-4h2v4z\"/>\n",
              "    </g>\n",
              "</svg>\n",
              "  </button>\n",
              "\n",
              "<style>\n",
              "  .colab-df-quickchart {\n",
              "      --bg-color: #E8F0FE;\n",
              "      --fill-color: #1967D2;\n",
              "      --hover-bg-color: #E2EBFA;\n",
              "      --hover-fill-color: #174EA6;\n",
              "      --disabled-fill-color: #AAA;\n",
              "      --disabled-bg-color: #DDD;\n",
              "  }\n",
              "\n",
              "  [theme=dark] .colab-df-quickchart {\n",
              "      --bg-color: #3B4455;\n",
              "      --fill-color: #D2E3FC;\n",
              "      --hover-bg-color: #434B5C;\n",
              "      --hover-fill-color: #FFFFFF;\n",
              "      --disabled-bg-color: #3B4455;\n",
              "      --disabled-fill-color: #666;\n",
              "  }\n",
              "\n",
              "  .colab-df-quickchart {\n",
              "    background-color: var(--bg-color);\n",
              "    border: none;\n",
              "    border-radius: 50%;\n",
              "    cursor: pointer;\n",
              "    display: none;\n",
              "    fill: var(--fill-color);\n",
              "    height: 32px;\n",
              "    padding: 0;\n",
              "    width: 32px;\n",
              "  }\n",
              "\n",
              "  .colab-df-quickchart:hover {\n",
              "    background-color: var(--hover-bg-color);\n",
              "    box-shadow: 0 1px 2px rgba(60, 64, 67, 0.3), 0 1px 3px 1px rgba(60, 64, 67, 0.15);\n",
              "    fill: var(--button-hover-fill-color);\n",
              "  }\n",
              "\n",
              "  .colab-df-quickchart-complete:disabled,\n",
              "  .colab-df-quickchart-complete:disabled:hover {\n",
              "    background-color: var(--disabled-bg-color);\n",
              "    fill: var(--disabled-fill-color);\n",
              "    box-shadow: none;\n",
              "  }\n",
              "\n",
              "  .colab-df-spinner {\n",
              "    border: 2px solid var(--fill-color);\n",
              "    border-color: transparent;\n",
              "    border-bottom-color: var(--fill-color);\n",
              "    animation:\n",
              "      spin 1s steps(1) infinite;\n",
              "  }\n",
              "\n",
              "  @keyframes spin {\n",
              "    0% {\n",
              "      border-color: transparent;\n",
              "      border-bottom-color: var(--fill-color);\n",
              "      border-left-color: var(--fill-color);\n",
              "    }\n",
              "    20% {\n",
              "      border-color: transparent;\n",
              "      border-left-color: var(--fill-color);\n",
              "      border-top-color: var(--fill-color);\n",
              "    }\n",
              "    30% {\n",
              "      border-color: transparent;\n",
              "      border-left-color: var(--fill-color);\n",
              "      border-top-color: var(--fill-color);\n",
              "      border-right-color: var(--fill-color);\n",
              "    }\n",
              "    40% {\n",
              "      border-color: transparent;\n",
              "      border-right-color: var(--fill-color);\n",
              "      border-top-color: var(--fill-color);\n",
              "    }\n",
              "    60% {\n",
              "      border-color: transparent;\n",
              "      border-right-color: var(--fill-color);\n",
              "    }\n",
              "    80% {\n",
              "      border-color: transparent;\n",
              "      border-right-color: var(--fill-color);\n",
              "      border-bottom-color: var(--fill-color);\n",
              "    }\n",
              "    90% {\n",
              "      border-color: transparent;\n",
              "      border-bottom-color: var(--fill-color);\n",
              "    }\n",
              "  }\n",
              "</style>\n",
              "\n",
              "  <script>\n",
              "    async function quickchart(key) {\n",
              "      const quickchartButtonEl =\n",
              "        document.querySelector('#' + key + ' button');\n",
              "      quickchartButtonEl.disabled = true;  // To prevent multiple clicks.\n",
              "      quickchartButtonEl.classList.add('colab-df-spinner');\n",
              "      try {\n",
              "        const charts = await google.colab.kernel.invokeFunction(\n",
              "            'suggestCharts', [key], {});\n",
              "      } catch (error) {\n",
              "        console.error('Error during call to suggestCharts:', error);\n",
              "      }\n",
              "      quickchartButtonEl.classList.remove('colab-df-spinner');\n",
              "      quickchartButtonEl.classList.add('colab-df-quickchart-complete');\n",
              "    }\n",
              "    (() => {\n",
              "      let quickchartButtonEl =\n",
              "        document.querySelector('#df-c05113e1-49a2-431c-9327-2acb30592ff2 button');\n",
              "      quickchartButtonEl.style.display =\n",
              "        google.colab.kernel.accessAllowed ? 'block' : 'none';\n",
              "    })();\n",
              "  </script>\n",
              "</div>\n",
              "\n",
              "    </div>\n",
              "  </div>\n"
            ],
            "application/vnd.google.colaboratory.intrinsic+json": {
              "type": "dataframe",
              "variable_name": "lastfm"
            }
          },
          "metadata": {},
          "execution_count": 23
        }
      ],
      "source": [
        "lastfm = pd.read_csv('lastfm_es.csv')\n",
        "lastfm.head()"
      ]
    },
    {
      "cell_type": "markdown",
      "metadata": {
        "id": "AnckV7zNiHGi"
      },
      "source": [
        "La librería `apriori` requiere que los datos estén en un formato de listas de listas, donde todo el conjunto de datos es una lista grande y cada transacción  es una lista interna dentro de la lista grande externa. Actualmente tenemos datos en forma `data.frame` de pandas. Así, con el siguiente bucle lo convertimos en el formato deseado:"
      ]
    },
    {
      "cell_type": "code",
      "execution_count": 24,
      "metadata": {
        "id": "vNzMq-vliHGi"
      },
      "outputs": [],
      "source": [
        "records = []\n",
        "for i in lastfm['usuario'].unique():\n",
        "    records.append(list(lastfm[lastfm['usuario'] == i]['artista'].values))"
      ]
    },
    {
      "cell_type": "markdown",
      "metadata": {
        "id": "BGxYsVAciHGi"
      },
      "source": [
        "Por ejemplo el primer usuario escuchó a los siguientes artistas:"
      ]
    },
    {
      "cell_type": "code",
      "execution_count": 25,
      "metadata": {
        "colab": {
          "base_uri": "https://localhost:8080/"
        },
        "id": "jdBpG5LFiHGj",
        "outputId": "e5e6c3be-f366-47a6-f753-c7efe53acc51"
      },
      "outputs": [
        {
          "output_type": "execute_result",
          "data": {
            "text/plain": [
              "['red hot chili peppers',\n",
              " 'the black dahlia murder',\n",
              " 'goldfrapp',\n",
              " 'dropkick murphys',\n",
              " 'le tigre',\n",
              " 'schandmaul',\n",
              " 'edguy',\n",
              " 'jack johnson',\n",
              " 'eluveitie',\n",
              " 'the killers',\n",
              " 'judas priest',\n",
              " 'rob zombie',\n",
              " 'john mayer',\n",
              " 'the who',\n",
              " 'guano apes',\n",
              " 'the rolling stones']"
            ]
          },
          "metadata": {},
          "execution_count": 25
        }
      ],
      "source": [
        "records[0]"
      ]
    },
    {
      "cell_type": "markdown",
      "metadata": {
        "id": "2ip22fZziHGj"
      },
      "source": [
        "El siguiente paso es aplicar el algoritmo Apriori en el conjunto de datos. Para hacerlo, podemos usar la clase `apriori` que importamos de la librería `apriori`."
      ]
    },
    {
      "cell_type": "markdown",
      "metadata": {
        "id": "Lc5Y6hrkiHGj"
      },
      "source": [
        " La clase apriori requiere algunos valores de parámetros para funcionar:\n",
        "\n",
        "   1. El primer parámetro es la lista de listas de la que se desea extraer reglas.\n",
        "   2. El segundo parámetro es el parámetro `min_support`. Este parámetro se utiliza para seleccionar los elementos con valores de soporte superiores al valor especificado por el parámetro.\n",
        "   3. El parámetro `min_confidence` filtra aquellas reglas que tienen una confianza superior al umbral de confianza especificado por el parámetro.\n",
        "   3. De manera similar, el parámetro `min_lift` especifica el valor de elevación mínimo para las reglas preseleccionadas.\n",
        "   4. Finalmente, el parámetro `max_length` especifica la cantidad máxima de elementos que desea en sus reglas.\n",
        "\n",
        "Supongamos que queremos reglas sólo para aquellos artistas que se escuchan al menos 1% de las veces. La confianza mínima para las reglas es 50% o 0.5. De manera similar, especificamos el valor de lift como 8 y finalmente `max_length` es 10, ya que queremos como máximo 10 artistas escuchados en nuestras reglas. Recordemos que la elección de estos valores es un tanto arbitraria y por lo tanto los invito a experimentar con distintos valores."
      ]
    },
    {
      "cell_type": "code",
      "execution_count": 26,
      "metadata": {
        "id": "Sct3Z6XAiHGj"
      },
      "outputs": [],
      "source": [
        "association_rules = apriori(records, min_support=0.01, min_confidence=0.5, min_lift=8,max_length=10)\n",
        "association_results = list(association_rules)"
      ]
    },
    {
      "cell_type": "markdown",
      "metadata": {
        "id": "dzRCqQnKiHGj"
      },
      "source": [
        "Podemos ver cuantas reglas de asociación derivamos a partir de estos parámetros:"
      ]
    },
    {
      "cell_type": "code",
      "execution_count": 27,
      "metadata": {
        "colab": {
          "base_uri": "https://localhost:8080/"
        },
        "id": "I-Zrj3o6iHGm",
        "outputId": "fe49dd91-4f4c-4be7-d46c-cc1abef8b08d"
      },
      "outputs": [
        {
          "output_type": "stream",
          "name": "stdout",
          "text": [
            "Derivamos 4 reglas de asociación.\n"
          ]
        }
      ],
      "source": [
        "print(\"Derivamos {} reglas de asociación.\".format(len(association_results)))"
      ]
    },
    {
      "cell_type": "markdown",
      "metadata": {
        "id": "gI6hUbC0iHGm"
      },
      "source": [
        "Veamos la primera rebla de asociación"
      ]
    },
    {
      "cell_type": "code",
      "execution_count": 28,
      "metadata": {
        "colab": {
          "base_uri": "https://localhost:8080/"
        },
        "id": "9iGkWv4AiHGm",
        "outputId": "c7a3c69e-c67e-4555-ef00-c9e9c183a4cc"
      },
      "outputs": [
        {
          "output_type": "stream",
          "name": "stdout",
          "text": [
            "RelationRecord(items=frozenset({'judas priest', 'iron maiden'}), support=0.013533333333333333, ordered_statistics=[OrderedStatistic(items_base=frozenset({'judas priest'}), items_add=frozenset({'iron maiden'}), confidence=0.5075, lift=8.56299212598425)])\n"
          ]
        }
      ],
      "source": [
        "print(association_results[0])"
      ]
    },
    {
      "cell_type": "markdown",
      "metadata": {
        "id": "9GALPjQjiHGm"
      },
      "source": [
        "En este caso Judas Priest se escucha a menudo con Iron Maiden:\n",
        " - El valor de soporte es 0.01, que nos dice que el 1% de los usuarios escucharon Judas Priest.\n",
        " -  El nivel de confianza es .5 que muestra que de los usuarios que escucharon Judas Priest, el 50% también escucho Iron Maiden.\n",
        " - Finalmente, el lift de 8.56 nos dice que Iron Maiden es 8.56 veces más probables que sea escuchado por los clientes que escuchan Judas Priest, comparado a la probabilidad base de escuchar Iron Maiden."
      ]
    },
    {
      "cell_type": "markdown",
      "metadata": {
        "id": "YulzfsbGiHGm"
      },
      "source": [
        "Los sistemas de recomendación pueden entonces recoger estas reglas de asociación y sugerir contenido basado en ellas. A los clientes que escucharon Judas Priest, se les puede entonces recomendar Iron Maiden. Finalmente podemos ver todas las reglas de asociación derivadas anteriormente:"
      ]
    },
    {
      "cell_type": "code",
      "execution_count": 29,
      "metadata": {
        "colab": {
          "base_uri": "https://localhost:8080/"
        },
        "id": "UP2Kqv8qiHGm",
        "outputId": "4e1a9594-e84e-4e1c-cb76-1be6ce92d1f8"
      },
      "outputs": [
        {
          "output_type": "stream",
          "name": "stdout",
          "text": [
            "Regla: judas priest -> iron maiden\n",
            "Soporte: 0.013533333333333333\n",
            "Confianza: 0.5075\n",
            "Lift: 8.56299212598425\n",
            "=====================================\n",
            "Regla: t.i. -> kanye west\n",
            "Soporte: 0.0104\n",
            "Confianza: 0.5672727272727273\n",
            "Lift: 8.854413016743923\n",
            "=====================================\n",
            "Regla: sonata arctica -> nightwish\n",
            "Soporte: 0.013466666666666667\n",
            "Confianza: 0.51010101010101\n",
            "Lift: 8.236291874612649\n",
            "=====================================\n",
            "Regla: rihanna -> the pussycat dolls\n",
            "Soporte: 0.0104\n",
            "Confianza: 0.5777777777777778\n",
            "Lift: 13.415892672858618\n",
            "=====================================\n"
          ]
        }
      ],
      "source": [
        "for item in association_results:\n",
        "\n",
        "    #Primer índice de la lista interna\n",
        "    #Contiene elemento base y el adicional\n",
        "    pair = item[0]\n",
        "    items = [x for x in pair]\n",
        "    print(\"Regla: \" + items[0] + \" -> \" + items[1])\n",
        "\n",
        "    #Segundo índice de la lista interna\n",
        "    print(\"Soporte: \" + str(item[1]))\n",
        "\n",
        "    #Tercer índice de la lista ubicada en 0th\n",
        "    #del tercer índice de la lista interna\n",
        "\n",
        "    print(\"Confianza: \" + str(item[2][0][2]))\n",
        "    print(\"Lift: \" + str(item[2][0][3]))\n",
        "    print(\"=====================================\")"
      ]
    },
    {
      "cell_type": "markdown",
      "metadata": {
        "id": "caOtHJLmiHGm"
      },
      "source": [
        "# Referencias\n",
        "\n",
        "\n",
        "- Amat Rodrigo, Joaquín. (2018). Reglas de asociación y algoritmo Apriori con R, available under a Attribution 4.0 International (CC BY 4.0) at https://www.cienciadedatos.net/documentos/43_reglas_de_asociacion. Accedido el 12 de Enero de 2022\n",
        "\n",
        "- Harrington, Peter (2012). Machine learning in action. Simon and Schuster.\n",
        "\n",
        "- Jones, Aaron; Kruger, Christopher; Johnston, Benjamin. The Unsupervised Learning Workshop: Get started with unsupervised learning algorithms and simplify your unorganized data to help make future predictions. Packt Publishing. Kindle Edition.\n",
        "\n",
        "- Taddy, Matt; Taddy, Matt. Business Data Science: Combining Machine Learning and Economics to Optimize, Automate, and Accelerate Business Decisions. McGraw-Hill Education. Kindle Edition.\n",
        "\n",
        "\n",
        "\n"
      ]
    }
  ],
  "metadata": {
    "interpreter": {
      "hash": "8fac594bfae6525c0c41b4041d2d72effa188cc8ead05f81b1fab2bb098927fb"
    },
    "kernelspec": {
      "display_name": "Python 3 (ipykernel)",
      "language": "python",
      "name": "python3"
    },
    "language_info": {
      "codemirror_mode": {
        "name": "ipython",
        "version": 3
      },
      "file_extension": ".py",
      "mimetype": "text/x-python",
      "name": "python",
      "nbconvert_exporter": "python",
      "pygments_lexer": "ipython3",
      "version": "3.9.12"
    },
    "toc": {
      "base_numbering": 1,
      "nav_menu": {},
      "number_sections": true,
      "sideBar": true,
      "skip_h1_title": false,
      "title_cell": "Table of Contents",
      "title_sidebar": "Contents",
      "toc_cell": false,
      "toc_position": {},
      "toc_section_display": true,
      "toc_window_display": false
    },
    "colab": {
      "provenance": []
    }
  },
  "nbformat": 4,
  "nbformat_minor": 0
}